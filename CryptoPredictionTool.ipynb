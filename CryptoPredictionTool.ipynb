{
 "cells": [
  {
   "cell_type": "markdown",
   "metadata": {},
   "source": [
    "# Import Statements\n",
    "---\n",
    "**Important note:**\n",
    "For some reason tensorflow version and numpy version have dependency conflicts. Need to figure out what version is stable for both of these to work together."
   ]
  },
  {
   "cell_type": "code",
   "execution_count": 28,
   "metadata": {},
   "outputs": [],
   "source": [
    "\n",
    "import pandas as pd\n",
    "import glob\n",
    "import os\n",
    "import time\n",
    "import twint\n",
    "import nest_asyncio                 # Import required for twint usage.\n",
    "import re\n",
    "from nltk.corpus import stopwords   # supplied list of words that can be removed from tweets because they carry no sentiment.\n",
    "nest_asyncio.apply()\n",
    "from textblob import TextBlob\n",
    "import numpy as np\n",
    "import matplotlib.pyplot as pypl\n",
    "import datetime as dt\n",
    "import pandas_datareader as pdr\n",
    "\n",
    "\n",
    "from sklearn.preprocessing import MinMaxScaler\n",
    "import tensorflow as tf\n",
    "from keras.layers import Dense, Dropout, LSTM\n",
    "from keras.models import Sequential"
   ]
  },
  {
   "cell_type": "markdown",
   "metadata": {},
   "source": [
    "## Reading in crypto price dataset\n",
    "---\n",
    "Section below reads csv files into pandas dataframes for interacting with. Also compiles list of coin names for twitter searching.\n",
    "\n",
    "### What to do next:\n",
    "* Retrieve Token labels from CSV file for searching by Cashtag on twitter."
   ]
  },
  {
   "cell_type": "code",
   "execution_count": 29,
   "metadata": {},
   "outputs": [
    {
     "name": "stdout",
     "output_type": "stream",
     "text": [
      "2022-04-04\n"
     ]
    }
   ],
   "source": [
    "path = r'c:\\Users\\WaKaBurd\\Documents\\GitHub\\CryptoPredictionTool\\archive'\n",
    "extension = 'csv'\n",
    "os.chdir(path)\n",
    "csv_files = glob.glob('*.{}'.format(extension))\n",
    "\n",
    "# Compile list of all coin names for searching on twitter later\n",
    "coins = []\n",
    "\n",
    "for coin in csv_files:\n",
    "    vals = coin.split(\"_\")\n",
    "    coin_name = vals[1][:-4]\n",
    "    coins.append(coin_name)\n",
    "\n",
    "# compile list of scaled np arrays for training models later on.\n",
    "coin_data = []\n",
    "\n",
    "for file in csv_files:\n",
    "    df = pd.read_csv(file)\n",
    "    coin_data.append(df)\n",
    "\n",
    "print(dt.datetime.now().date())"
   ]
  },
  {
   "cell_type": "markdown",
   "metadata": {},
   "source": [
    "## Scrape Twitter for data on all coins supplied by dataset\n",
    "---\n",
    "Below section of code searches through twitter using keywords. Uses sift_tweet() function to remove all unnecessary characters, links, emojis & words from tweets. Also uses Textblob to append polarity column to pandas df for tracking sentiment of tweets.\n",
    "\n",
    "### What to do next:\n",
    "* Search twitter based on Cashtags & Hashtags\n",
    "* Configure Twint with Google translater so I can translate tweets from non-english langauges to english. (Need to create ticket for this in Github)"
   ]
  },
  {
   "cell_type": "code",
   "execution_count": 31,
   "metadata": {},
   "outputs": [],
   "source": [
    "# Need to create function for cleaning the tweets.\n",
    "def sift_tweet(tweet, stop_words):\n",
    "    cleaned_tweet = tweet\n",
    "    cleaned_tweet = re.sub(\"(@[A-Za-z0-9]+)|([^0-9A-Za-z \\t])|(\\w+:\\/\\/\\S+)\",\" \",tweet) # regex to remove all @userame, emojis, and links from tweets.\n",
    "    for word in cleaned_tweet:\n",
    "        if word in stop_words: cleaned_tweet.replace(word, '')\n",
    "    return cleaned_tweet\n",
    "\n",
    "# Function for iterating through coins list and storing findings in .csv files\n",
    "def search_coins(coins):\n",
    "    important_cols = ['date', 'created_at', 'tweet']\n",
    "    stopwords_file = open(\"../archive/stopwords.txt\", \"r+\")\n",
    "    stopwords = list(stopwords_file.read().split('\\n'))\n",
    "    path = r'c:\\Users\\WaKaBurd\\Documents\\GitHub\\CryptoPredictionTool\\search_results'\n",
    "    os.chdir(path)\n",
    "    search_result = pd.DataFrame()\n",
    "    \n",
    "    for coin in coins:\n",
    "        print('performing twitter search for coin:', coin)\n",
    "        \n",
    "        # TODO: This coin title doesn't really exist on twitter so it yields no results causing errors. Need to fix logic here.\n",
    "        if coin == \"CryptocomCoin\":\n",
    "            continue\n",
    "    \n",
    "        timestr = time.strftime(\"%Y%m%d\")\n",
    "\n",
    "        c = twint.Config()\n",
    "        c.Limit = 100\n",
    "        c.Lang = \"en\"\n",
    "        c.Pandas = True\n",
    "        c.Search = coin\n",
    "        c.Hide_output = True\n",
    "        twint.run.Search(c)\n",
    "        coin_df = twint.storage.panda.Tweets_df\n",
    "        \n",
    "        # important for when twint fails to find tweets based on currency.\n",
    "        if coin_df['tweet'] is None:\n",
    "            continue\n",
    "        \n",
    "        # Strip all columns we don't care about.\n",
    "        for col in coin_df:\n",
    "            if col not in important_cols: coin_df.pop(col)\n",
    "        \n",
    "        coin_df['Processed Tweet'] = coin_df['tweet'].apply(lambda x: sift_tweet(x.lower(), stopwords))       # Lambda function for creating processed tweets in Coin Dataframe \n",
    "        coin_df['Polarity'] = coin_df['Processed Tweet'].apply(lambda x: TextBlob(x).sentiment[0])            # Lambda function for creating Polarity value in Coin Dataframe using Textblob\n",
    "        \n",
    "        \n",
    "        coin_df.to_csv(str(dt.datetime.now().date()) +'-' + coin + '_result.csv')\n",
    "          \n",
    "#search_coins(coins)"
   ]
  },
  {
   "cell_type": "markdown",
   "metadata": {},
   "source": [
    "## Create and Train Neural Net on Dataset\n",
    "---\n",
    "\n",
    "\n",
    "### What to do next:\n",
    "* Bonus Task #1\n",
    "* Bonus Task #2"
   ]
  },
  {
   "cell_type": "code",
   "execution_count": 39,
   "metadata": {},
   "outputs": [
    {
     "name": "stdout",
     "output_type": "stream",
     "text": [
      "Epoch 1/15\n",
      "91/91 [==============================] - 19s 145ms/step - loss: 0.0035\n",
      "Epoch 2/15\n",
      "91/91 [==============================] - 13s 140ms/step - loss: 0.0015\n",
      "Epoch 3/15\n",
      "91/91 [==============================] - 13s 143ms/step - loss: 0.0012\n",
      "Epoch 4/15\n",
      "91/91 [==============================] - 13s 147ms/step - loss: 0.0011\n",
      "Epoch 5/15\n",
      "91/91 [==============================] - 14s 151ms/step - loss: 0.0012\n",
      "Epoch 6/15\n",
      "91/91 [==============================] - 13s 148ms/step - loss: 0.0011\n",
      "Epoch 7/15\n",
      "91/91 [==============================] - 13s 143ms/step - loss: 0.0011\n",
      "Epoch 8/15\n",
      "91/91 [==============================] - 13s 148ms/step - loss: 0.0010\n",
      "Epoch 9/15\n",
      "91/91 [==============================] - 13s 143ms/step - loss: 9.8616e-04\n",
      "Epoch 10/15\n",
      "91/91 [==============================] - 13s 146ms/step - loss: 8.8186e-04\n",
      "Epoch 11/15\n",
      "91/91 [==============================] - 13s 143ms/step - loss: 8.8573e-04\n",
      "Epoch 12/15\n",
      "91/91 [==============================] - 13s 147ms/step - loss: 7.2995e-04\n",
      "Epoch 13/15\n",
      "91/91 [==============================] - 13s 145ms/step - loss: 7.6126e-04\n",
      "Epoch 14/15\n",
      "91/91 [==============================] - 12s 137ms/step - loss: 6.7999e-04\n",
      "Epoch 15/15\n",
      "91/91 [==============================] - 13s 143ms/step - loss: 6.9916e-04\n"
     ]
    }
   ],
   "source": [
    "prediction_days = 90\n",
    "scaler = MinMaxScaler(feature_range=(0,1))\n",
    "def train_model(x_train, y_train):\n",
    "    # Model Setup\n",
    "    model = Sequential()\n",
    "    \n",
    "    model.add(LSTM(units=50, return_sequences=True, input_shape=(x_train.shape[1], 1)))\n",
    "    model.add(Dropout(0.2))\n",
    "\n",
    "    model.add(LSTM(units=50, return_sequences=True))\n",
    "    model.add(Dropout(0.2))\n",
    "\n",
    "    model.add(Dense(units=1))    # Price prediction\n",
    "\n",
    "    model.compile(optimizer='adam', loss='mean_squared_error')\n",
    "    model.fit(x_train, y_train, epochs=15, batch_size=32)\n",
    "    return model\n",
    "\n",
    "def scale_and_reshape(data, num_days):\n",
    "    # Scale and chunk data\n",
    "    scaler = MinMaxScaler(feature_range=(0,1))\n",
    "    scaled_data = scaler.fit_transform(data['Close'].values.reshape(-1,1))\n",
    "        \n",
    "    x_train = []\n",
    "    y_train = []\n",
    "\n",
    "    # Scale data into chunks of time (in days)\n",
    "    for x in range(num_days, len(scaled_data)):\n",
    "        x_train.append(scaled_data[x - num_days:x, 0])\n",
    "        y_train.append(scaled_data[x, 0])\n",
    "                \n",
    "    x_train = np.array(x_train)\n",
    "    y_train = np.array(y_train)\n",
    "\n",
    "    # Reshape Data\n",
    "    x_train = np.reshape(x_train, (x_train.shape[0], x_train.shape[1], 1))\n",
    "    \n",
    "    reshaped_data = []\n",
    "    reshaped_data.append(x_train)\n",
    "    reshaped_data.append(y_train)\n",
    "    \n",
    "    return reshaped_data\n",
    "\n",
    "\n",
    "#print('coin_data:', coin_data[i]['Close'])\n",
    "scaled_coin_data = scale_and_reshape(coin_data[0], 90)\n",
    "trained_model = train_model(scaled_coin_data[0], scaled_coin_data[1])\n",
    "\n",
    "# Just a reminder, this scaled coin data is a list, comprised of lists of lists. \n",
    "# If I want to access AAVE's coin data, I'd need to access scaled_coin_data[0]\n",
    "# Inside that list, is 215 lists (275 entries in archive/coin/aave - 60 omitted days for our predictions)\n",
    "# print(len(scaled_coin_data))\n",
    "# print(scaled_coin_data[0][0])\n",
    "\n"
   ]
  },
  {
   "cell_type": "code",
   "execution_count": 45,
   "metadata": {},
   "outputs": [
    {
     "data": {
      "image/png": "[encoded data removed]",
      "text/plain": [
       "<Figure size 432x288 with 1 Axes>"
      ]
     },
     "metadata": {
      "needs_background": "light"
     },
     "output_type": "display_data"
    }
   ],
   "source": [
    "def test_and_plot(coin_data, model):\n",
    "    test_start = dt.datetime(2022,6,20) + dt.timedelta(days=-prediction_days)\n",
    "    test_end = dt.datetime.now()\n",
    "    \n",
    "    test_data = pdr.DataReader(f'BTC-USD', 'yahoo', test_start, test_end)\n",
    "    actual_prices = test_data['Close'].values\n",
    "    \n",
    "    total_dataset = pd.concat((coin_data['Close'], test_data['Close']), axis=0)\n",
    "    \n",
    "    model_inputs = total_dataset[len(total_dataset) - len(test_data) - prediction_days:].values\n",
    "    model_inputs = model_inputs.reshape(-1,1)\n",
    "    model_inputs = scaler.fit_transform(model_inputs)\n",
    "    \n",
    "    x_test = []\n",
    "    \n",
    "    for x in range(prediction_days, len(model_inputs)):\n",
    "        x_test.append(model_inputs[x-prediction_days:x, 0])\n",
    "        \n",
    "    x_test = np.array(x_test)\n",
    "    x_test = np.reshape(x_test, (x_test.shape[0], x_test.shape[1], 1))\n",
    "    \n",
    "    prediction_prices = model.predict(x_test)\n",
    "    prediction_prices = scaler.inverse_transform(prediction_prices)\n",
    "    \n",
    "    pypl.plot(actual_prices, color='black', label='Actual Prices')\n",
    "    pypl.plot(prediction_prices, color='green', label='Predicted Prices')\n",
    "    pypl.title(f'BTC price prediction')\n",
    "    pypl.xlabel('Time')\n",
    "    pypl.ylabel('Price')\n",
    "    pypl.legend(loc='lower right')\n",
    "    pypl.show()\n",
    "\n",
    "test_and_plot(coin_data[0], trained_model)"
   ]
  }
 ],
 "metadata": {
  "interpreter": {
   "hash": "b4c0bf06c6142ddc920bc4833060833a5c39c864bf9bfacfcb217d05e37f17a2"
  },
  "kernelspec": {
   "display_name": "Python 3.8.5 ('base')",
   "language": "python",
   "name": "python3"
  },
  "language_info": {
   "codemirror_mode": {
    "name": "ipython",
    "version": 3
   },
   "file_extension": ".py",
   "mimetype": "text/x-python",
   "name": "python",
   "nbconvert_exporter": "python",
   "pygments_lexer": "ipython3",
   "version": "3.8.5"
  },
  "orig_nbformat": 4
 },
 "nbformat": 4,
 "nbformat_minor": 2
}
