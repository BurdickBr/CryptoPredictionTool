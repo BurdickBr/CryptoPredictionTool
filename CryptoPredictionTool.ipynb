{
 "cells": [
  {
   "cell_type": "markdown",
   "metadata": {},
   "source": [
    "# Import Statments\n",
    "---"
   ]
  },
  {
   "cell_type": "code",
   "execution_count": 1,
   "metadata": {},
   "outputs": [],
   "source": [
    "import pandas as pd\n",
    "import glob\n",
    "import os\n",
    "import time\n",
    "import twint\n",
    "import nest_asyncio\n",
    "nest_asyncio.apply()\n",
    "from textblob import TextBlob\n",
    "\n",
    "#import tensorflow as tf"
   ]
  },
  {
   "cell_type": "markdown",
   "metadata": {},
   "source": [
    "## Reading in crypto price dataset\n",
    "---"
   ]
  },
  {
   "cell_type": "code",
   "execution_count": 17,
   "metadata": {},
   "outputs": [
    {
     "name": "stdout",
     "output_type": "stream",
     "text": [
      "['Aave', 'BinanceCoin', 'Bitcoin', 'Cardano', 'ChainLink', 'Cosmos', 'CryptocomCoin', 'Dogecoin', 'EOS', 'Ethereum', 'Iota', 'Litecoin', 'Monero', 'NEM', 'Polkadot', 'Solana', 'Stellar', 'Tether', 'Tron', 'Uniswap', 'USDCoin', 'WrappedBitcoin', 'XRP']\n"
     ]
    }
   ],
   "source": [
    "path = r'c:\\Users\\WaKaBurd\\Documents\\GitHub\\CryptoPredictionTool\\archive'\n",
    "extension = 'csv'\n",
    "os.chdir(path)\n",
    "csv_files = glob.glob('*.{}'.format(extension))\n",
    "\n",
    "# Compile list of all coin names for searching on twitter later\n",
    "coins = []\n",
    "\n",
    "for coin in csv_files:\n",
    "    vals = coin.split(\"_\")\n",
    "    coin_name = vals[1][:-4]\n",
    "    coins.append(coin_name)\n",
    "\n",
    "# compile list of pandas dataframe for assessment\n",
    "coin_data = []\n",
    "\n",
    "for file in csv_files:\n",
    "    df = pd.read_csv(file)\n",
    "    coin_data.append(df)"
   ]
  },
  {
   "cell_type": "markdown",
   "metadata": {},
   "source": [
    "## Scrape twitter for data on all coins supplied by dataset\n",
    "---\n",
    "Below section of code searches through twitter looking for keywords "
   ]
  },
  {
   "cell_type": "code",
   "execution_count": null,
   "metadata": {},
   "outputs": [],
   "source": [
    "# Function for iterating through coins list and storing findings in .csv files\n",
    "def search_coins(coins):\n",
    "    path = r'c:\\Users\\WaKaBurd\\Documents\\GitHub\\CryptoPredictionTool\\search_results'\n",
    "    os.chdir(path)\n",
    "    search_result = pd.DataFrame()\n",
    "    \n",
    "    for coin in coins:\n",
    "        print('performing twitter search for coin:', coin)\n",
    "    \n",
    "        timestr = time.strftime(\"%Y%m%d\")\n",
    "        \n",
    "\n",
    "        c = twint.Config()\n",
    "        c.Limit = 10\n",
    "        c.Lang = \"en\"\n",
    "        c.Pandas = True\n",
    "        c.Search = coin\n",
    "        c.Hide_output = True\n",
    "        twint.run.Search(c)\n",
    "        coin_df = twint.storage.panda.Tweets_df\n",
    "    \n",
    "        coin_df.to_csv(coin + '_result.csv')\n",
    "    print(\"coin_df columns: \", coin_df.columns)\n",
    "          \n",
    "search_coins(coins)"
   ]
  },
  {
   "cell_type": "code",
   "execution_count": null,
   "metadata": {},
   "outputs": [],
   "source": [
    "def clean_tweets(tweet):\n",
    "    "
   ]
  }
 ],
 "metadata": {
  "interpreter": {
   "hash": "b4c0bf06c6142ddc920bc4833060833a5c39c864bf9bfacfcb217d05e37f17a2"
  },
  "kernelspec": {
   "display_name": "Python 3.8.5 ('base')",
   "language": "python",
   "name": "python3"
  },
  "language_info": {
   "codemirror_mode": {
    "name": "ipython",
    "version": 3
   },
   "file_extension": ".py",
   "mimetype": "text/x-python",
   "name": "python",
   "nbconvert_exporter": "python",
   "pygments_lexer": "ipython3",
   "version": "3.8.5"
  },
  "orig_nbformat": 4
 },
 "nbformat": 4,
 "nbformat_minor": 2
}
